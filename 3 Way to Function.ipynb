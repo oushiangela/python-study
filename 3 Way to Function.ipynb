{
 "cells": [
  {
   "cell_type": "markdown",
   "metadata": {
    "run_control": {
     "frozen": false,
     "read_only": false
    }
   },
   "source": [
    "# motivation of procedures / Functions\n",
    "\n",
    "save life....\n",
    "\n",
    "Function is a named piece of code, separate from all others.\n",
    "\n",
    "A function can take any numebr and type of input _parameters_ and return any number and type of output _result_."
   ]
  },
  {
   "cell_type": "code",
   "execution_count": 3,
   "metadata": {
    "run_control": {
     "frozen": false,
     "read_only": false
    }
   },
   "outputs": [
    {
     "data": {
      "text/plain": [
       "function"
      ]
     },
     "execution_count": 3,
     "metadata": {},
     "output_type": "execute_result"
    }
   ],
   "source": [
    "# An empty function that does nothing\n",
    "def do_nothing():\n",
    "    pass\n",
    "\n",
    "type(do_nothing)"
   ]
  },
  {
   "cell_type": "code",
   "execution_count": 135,
   "metadata": {
    "run_control": {
     "frozen": false,
     "read_only": false
    },
    "scrolled": true
   },
   "outputs": [
    {
     "name": "stdout",
     "output_type": "stream",
     "text": [
      "Hello Python\n"
     ]
    }
   ],
   "source": [
    "# A function without parameters and returns values\n",
    "def greeting():\n",
    "    print(\"Hello Python\")\n",
    "\n",
    "# Call the function\n",
    "a = greeting()"
   ]
  },
  {
   "cell_type": "code",
   "execution_count": 136,
   "metadata": {
    "run_control": {
     "frozen": false,
     "read_only": false
    }
   },
   "outputs": [
    {
     "name": "stdout",
     "output_type": "stream",
     "text": [
      "None\n"
     ]
    }
   ],
   "source": [
    "print(a)"
   ]
  },
  {
   "cell_type": "code",
   "execution_count": 8,
   "metadata": {
    "run_control": {
     "frozen": false,
     "read_only": false
    }
   },
   "outputs": [
    {
     "name": "stdout",
     "output_type": "stream",
     "text": [
      "Hello Josh\n"
     ]
    }
   ],
   "source": [
    "# A function with a parameter that returns nothing\n",
    "def greeting(name):\n",
    "    print(\"Hello %s\" % name)\n",
    "\n",
    "# Call the function\n",
    "greeting(\"Josh\")"
   ]
  },
  {
   "cell_type": "code",
   "execution_count": 139,
   "metadata": {
    "run_control": {
     "frozen": false,
     "read_only": false
    }
   },
   "outputs": [
    {
     "name": "stdout",
     "output_type": "stream",
     "text": [
      "Hello again Joshua\n"
     ]
    }
   ],
   "source": [
    "# A function with a parameter and return a string\n",
    "def greeting_str(name):\n",
    "    return \"Hello again \" + name\n",
    "\n",
    "# Use the function\n",
    "s = greeting_str(\"Joshua\")\n",
    "print(s)"
   ]
  },
  {
   "cell_type": "markdown",
   "metadata": {
    "run_control": {
     "frozen": false,
     "read_only": false
    }
   },
   "source": [
    "### Positional Arguments\n",
    "\n",
    "Like many programming languages, Python support _positional arguments_, whose values are copied to their corresponding parameters in order."
   ]
  },
  {
   "cell_type": "code",
   "execution_count": 9,
   "metadata": {
    "run_control": {
     "frozen": false,
     "read_only": false
    }
   },
   "outputs": [
    {
     "data": {
      "text/plain": [
       "'wine:chardonnay,entree:chicken,dessert:cake'"
      ]
     },
     "execution_count": 9,
     "metadata": {},
     "output_type": "execute_result"
    }
   ],
   "source": [
    "# A function with 3 parameters\n",
    "def menu(wine, entree, dessert):\n",
    "    return \"wine:{},entree:{},dessert:{}\".format(wine,entree,dessert)\n",
    "\n",
    "# Get a menu\n",
    "menu('chardonnay', 'chicken', 'cake')"
   ]
  },
  {
   "cell_type": "code",
   "execution_count": 144,
   "metadata": {
    "run_control": {
     "frozen": false,
     "read_only": false
    }
   },
   "outputs": [
    {
     "data": {
      "text/plain": [
       "'wine:beef,entree:bagel,dessert:bordeaux'"
      ]
     },
     "execution_count": 144,
     "metadata": {},
     "output_type": "execute_result"
    }
   ],
   "source": [
    "menu('beef', 'bagel', 'bordeaux')"
   ]
  },
  {
   "cell_type": "markdown",
   "metadata": {
    "run_control": {
     "frozen": false,
     "read_only": false
    }
   },
   "source": [
    "### Keyword Arguments\n",
    "\n",
    "To avoid positional argument confusion, you can specify arguments by the names of their corresponding parameters, even in a different order from their definition in the function."
   ]
  },
  {
   "cell_type": "code",
   "execution_count": 11,
   "metadata": {
    "run_control": {
     "frozen": false,
     "read_only": false
    }
   },
   "outputs": [
    {
     "data": {
      "text/plain": [
       "'wine:bordeaux,entree:beef,dessert:cake'"
      ]
     },
     "execution_count": 11,
     "metadata": {},
     "output_type": "execute_result"
    }
   ],
   "source": [
    "menu(entree='beef', dessert='cake', wine='bordeaux')"
   ]
  },
  {
   "cell_type": "markdown",
   "metadata": {
    "run_control": {
     "frozen": false,
     "read_only": false
    }
   },
   "source": [
    "You can even mix positional and keyword arguments.\n",
    "\n",
    "> **Note**: You have to provide all positional arguments before feed in any keyword arguments."
   ]
  },
  {
   "cell_type": "markdown",
   "metadata": {
    "run_control": {
     "frozen": false,
     "read_only": false
    }
   },
   "source": [
    "### Default Parameter Values\n",
    "\n",
    "You can set default values for parameter incase the caller does not provide any."
   ]
  },
  {
   "cell_type": "code",
   "execution_count": 12,
   "metadata": {
    "run_control": {
     "frozen": false,
     "read_only": false
    }
   },
   "outputs": [
    {
     "data": {
      "text/plain": [
       "'wine:chardonnay,entree:chicken,dessert:pudding'"
      ]
     },
     "execution_count": 12,
     "metadata": {},
     "output_type": "execute_result"
    }
   ],
   "source": [
    "# default dessert is pudding\n",
    "def menu(wine, entree, dessert='pudding'):\n",
    "    return \"wine:{},entree:{},dessert:{}\".format(wine,entree,dessert)\n",
    "\n",
    "\n",
    "# Call menu without providing dessert\n",
    "menu('chardonnay', 'chicken')"
   ]
  },
  {
   "cell_type": "code",
   "execution_count": 13,
   "metadata": {
    "run_control": {
     "frozen": false,
     "read_only": false
    }
   },
   "outputs": [
    {
     "data": {
      "text/plain": [
       "'wine:chardonnay,entree:chicken,dessert:doughnut'"
      ]
     },
     "execution_count": 13,
     "metadata": {},
     "output_type": "execute_result"
    }
   ],
   "source": [
    "# Default value will be overwritten if caller provide a value\n",
    "menu('chardonnay', 'chicken', 'doughnut')"
   ]
  },
  {
   "cell_type": "markdown",
   "metadata": {
    "run_control": {
     "frozen": false,
     "read_only": false
    }
   },
   "source": [
    "## Advance Python Later...\n",
    "```python\n",
    "def print_args(*args):\n",
    "def print_kwargs(**kwargs):\n",
    "```\n",
    "> return complex data type"
   ]
  },
  {
   "cell_type": "markdown",
   "metadata": {
    "run_control": {
     "frozen": false,
     "read_only": false
    }
   },
   "source": [
    "### First-Class Citizens\n",
    "\n",
    "Everthing in Python is an object, including functions. You can assign functions to variables, use them as arguments to other functions and return them from functions."
   ]
  },
  {
   "cell_type": "code",
   "execution_count": 14,
   "metadata": {
    "run_control": {
     "frozen": false,
     "read_only": false
    }
   },
   "outputs": [],
   "source": [
    "def answer1():\n",
    "    print(\"Python is the best computer language!\")\n",
    "    \n",
    "def answer2():\n",
    "    print(\"No! PHP is the best one!\")\n",
    "\n",
    "# A function that takes another function as argument\n",
    "def run_somthing(func):\n",
    "    func()"
   ]
  },
  {
   "cell_type": "code",
   "execution_count": 15,
   "metadata": {},
   "outputs": [
    {
     "name": "stdout",
     "output_type": "stream",
     "text": [
      "Python is the best computer language!\n",
      "No! PHP is the best one!\n"
     ]
    }
   ],
   "source": [
    "run_somthing(answer1)\n",
    "run_somthing(answer2)"
   ]
  },
  {
   "cell_type": "code",
   "execution_count": 17,
   "metadata": {
    "collapsed": true,
    "run_control": {
     "frozen": false,
     "read_only": false
    }
   },
   "outputs": [],
   "source": [
    "def exp_factory(n):\n",
    "    def exp(a):\n",
    "        return a ** n\n",
    "    return exp"
   ]
  },
  {
   "cell_type": "code",
   "execution_count": 18,
   "metadata": {
    "run_control": {
     "frozen": false,
     "read_only": false
    }
   },
   "outputs": [
    {
     "data": {
      "text/plain": [
       "function"
      ]
     },
     "execution_count": 18,
     "metadata": {},
     "output_type": "execute_result"
    }
   ],
   "source": [
    "square = exp_factory(2)\n",
    "type(square)"
   ]
  },
  {
   "cell_type": "code",
   "execution_count": 19,
   "metadata": {
    "run_control": {
     "frozen": false,
     "read_only": false
    }
   },
   "outputs": [
    {
     "data": {
      "text/plain": [
       "9"
      ]
     },
     "execution_count": 19,
     "metadata": {},
     "output_type": "execute_result"
    }
   ],
   "source": [
    "square(3)"
   ]
  }
 ],
 "metadata": {
  "kernelspec": {
   "display_name": "Python 3",
   "language": "python",
   "name": "python3"
  },
  "language_info": {
   "codemirror_mode": {
    "name": "ipython",
    "version": 3
   },
   "file_extension": ".py",
   "mimetype": "text/x-python",
   "name": "python",
   "nbconvert_exporter": "python",
   "pygments_lexer": "ipython3",
   "version": "3.7.1"
  }
 },
 "nbformat": 4,
 "nbformat_minor": 2
}

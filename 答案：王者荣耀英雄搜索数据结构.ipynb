{
 "cells": [
  {
   "cell_type": "markdown",
   "metadata": {
    "run_control": {
     "frozen": false,
     "read_only": false
    }
   },
   "source": [
    "## 作业要求\n",
    "1. 从 https://pvp.qq.com/web201605/js/herolist.json 获取英雄描述文件herolist.json\n",
    "\n",
    "2. 假定英雄类型标识如下 \n",
    "```\n",
    "hero_type =[\"全部\",\"战士\",\"法师\",\"坦克\",\"刺客\",\"射手\",\"辅助\"]\n",
    "```\n",
    "\n",
    "3. 从https://pvp.qq.com/web201605/herolist.shtml 获取英雄网页列表，并且提出英雄名称及头像链接\n",
    "\n",
    "4. 从网页提取英雄名称和头像链接信息\n",
    "\n",
    "5. 合并两个信息并构建英雄详细信息数据列表,例如\n",
    "```\n",
    "['嫦娥',\n",
    "  '法师|战士|坦克',\n",
    "  '寒月公主|露花倒影',\n",
    "  'game.gtimg.cn/images/yxzj/img201606/heroimg/515/515.jpg'],\n",
    " ['上官婉儿',\n",
    "  '法师|全部|刺客',\n",
    "  '惊鸿之笔|修竹墨客',\n",
    "  'game.gtimg.cn/images/yxzj/img201606/heroimg/513/513.jpg'],\n",
    "]\n",
    "```\n",
    "6. 构建易于搜索的数据结构，并设计函数，实现搜索函数\n",
    "```\n",
    "    def lookup(index,keyword):\n",
    "        pass\n",
    "```        "
   ]
  },
  {
   "cell_type": "code",
   "execution_count": null,
   "metadata": {
    "collapsed": true
   },
   "outputs": [],
   "source": [
    "import json\n",
    "from bs4 import BeautifulSoup as bs\n",
    "import requests"
   ]
  },
  {
   "cell_type": "code",
   "execution_count": null,
   "metadata": {
    "collapsed": false
   },
   "outputs": [],
   "source": [
    "r = requests.get('https://pvp.qq.com/web201605/js/herolist.json')\n",
    "\n",
    "hero_list = json.loads(r.text)"
   ]
  },
  {
   "cell_type": "code",
   "execution_count": null,
   "metadata": {
    "collapsed": false
   },
   "outputs": [],
   "source": [
    "hero_list = None\n",
    "\n",
    "## 保存\n",
    "with open(\"all_hero.json\", 'wt',encoding=\"utf-8\") as fd:\n",
    "     fd.write(r.text)\n",
    "\n",
    "# 恢复\n",
    "with open('all_hero.json',encoding=\"utf-8\") as json_data:\n",
    "    hero_list = json.load(json_data)\n"
   ]
  },
  {
   "cell_type": "code",
   "execution_count": null,
   "metadata": {
    "collapsed": true
   },
   "outputs": [],
   "source": [
    "def search_for_hero_info(name=None):\n",
    "    for hero in hero_list:\n",
    "        if \"cname\" in hero:\n",
    "            if hero[\"cname\"] == name:\n",
    "                return hero\n",
    "    return None"
   ]
  },
  {
   "cell_type": "code",
   "execution_count": null,
   "metadata": {
    "collapsed": true
   },
   "outputs": [],
   "source": [
    "hero_type =[\"全部\",\"战士\",\"法师\",\"坦克\",\"刺客\",\"射手\",\"辅助\"]"
   ]
  },
  {
   "cell_type": "code",
   "execution_count": null,
   "metadata": {
    "collapsed": true
   },
   "outputs": [],
   "source": [
    "from selenium import webdriver\n",
    "\n",
    "browser = webdriver.Chrome('./chromedriver')\n",
    "browser.get(\"https://pvp.qq.com/web201605/herolist.shtml\")\n",
    "html = browser.page_source\n",
    "browser.quit()"
   ]
  },
  {
   "cell_type": "code",
   "execution_count": null,
   "metadata": {
    "collapsed": true
   },
   "outputs": [],
   "source": [
    "## 保存HTML\n",
    "with open(\"hero_web.html\", 'w',encoding=\"utf-8\") as fd:\n",
    "     fd.write(html)"
   ]
  },
  {
   "cell_type": "code",
   "execution_count": null,
   "metadata": {
    "collapsed": true
   },
   "outputs": [],
   "source": [
    "## 恢复保存的HTML\n",
    "hero_html = None\n",
    "with open(\"hero_web.html\", 'r',encoding=\"utf-8\") as fd:\n",
    "     hero_html = fd.read()"
   ]
  },
  {
   "cell_type": "code",
   "execution_count": null,
   "metadata": {
    "collapsed": true
   },
   "outputs": [],
   "source": [
    "def build_hero_type(hero):\n",
    "    combine_type = []    \n",
    "    if \"hero_type\" in hero:\n",
    "        combine_type.append(hero_type[hero[\"hero_type\"]])\n",
    "    if \"new_type\" in hero:\n",
    "        combine_type.append(hero_type[hero[\"new_type\"]])\n",
    "    if \"hero_type2\" in hero:\n",
    "        combine_type.append(hero_type[hero[\"hero_type2\"]])\n",
    "    return(('|').join(combine_type))"
   ]
  },
  {
   "cell_type": "code",
   "execution_count": null,
   "metadata": {
    "collapsed": true
   },
   "outputs": [],
   "source": [
    "#[hero_name, hero_type, hero_skin, hero_url]\n",
    "def merge_hero_info(hero_html, hero_json):\n",
    "    all_heros = []\n",
    "    for hero in hero_html:\n",
    "        hero_detail = search_for_hero_info(hero[0])\n",
    "        all_heros.append([hero[0],build_hero_type(hero_detail),hero_detail[\"skin_name\"].strip(\"&#10;'\"),hero[1]])    \n",
    "    return all_heros"
   ]
  },
  {
   "cell_type": "code",
   "execution_count": null,
   "metadata": {
    "collapsed": false,
    "scrolled": true
   },
   "outputs": [],
   "source": [
    "hero_soup = bs(html,'lxml')\n",
    "hero_html_list=hero_soup.find(\"ul\",class_=\"herolist\")\n",
    "all_hero_list =hero_html_list.find_all(\"li\")\n",
    "gen_heros=[[info.text, info.img[\"src\"].strip(\"/\")] for info in all_hero_list]"
   ]
  },
  {
   "cell_type": "code",
   "execution_count": null,
   "metadata": {
    "collapsed": false,
    "scrolled": true
   },
   "outputs": [],
   "source": [
    "combined_heros = merge_hero_info(gen_heros, hero_list)"
   ]
  },
  {
   "cell_type": "markdown",
   "metadata": {},
   "source": [
    "## build up index\n",
    "add_to_index\n",
    "```\n",
    "index is \n",
    "[\n",
    "\n",
    "[<keyword>,[<hero_detail>,...]],\n",
    "[<keyword>,[<hero_detail>,...]]...\n",
    "\n",
    "]\n",
    "keyword string\n",
    "a url\n",
    "```\n",
    "[\n",
    "[unit,factor],[]\n",
    "]\n",
    "\n",
    "[\n",
    "\n",
    "[keyword],[\n",
    "['百里玄策', '刺客|全部', '嚣狂之镰|威尼斯狂欢', 'http://game.gtimg.cn/images/yxzj/img201606/heroimg/195/195.jpg'],\n",
    "['百里玄策', '刺客|全部', '嚣狂之镰|威尼斯狂欢', 'http://game.gtimg.cn/images/yxzj/img201606/heroimg/195/195.jpg'],\n",
    "['百里玄策', '刺客|全部', '嚣狂之镰|威尼斯狂欢', 'http://game.gtimg.cn/images/yxzj/img201606/heroimg/195/195.jpg']],\n",
    "\n",
    "]\n",
    "## use list for storage\n",
    "['百里玄策', '刺客|全部', '嚣狂之镰|威尼斯狂欢', 'http://game.gtimg.cn/images/yxzj/img201606/heroimg/195/195.jpg']\n",
    "\n"
   ]
  },
  {
   "cell_type": "code",
   "execution_count": null,
   "metadata": {
    "collapsed": true
   },
   "outputs": [],
   "source": [
    "def get_keywords_array(hero):\n",
    "    \"\"\"\n",
    "    根据英雄信息，生成keyword的列表\n",
    "    [hero_name, hero_type, hero_skin, hero_url]\n",
    "    \"\"\"\n",
    "    keywords =[]\n",
    "    if hero[0]:\n",
    "        keywords.append(hero[0])\n",
    "    if hero[1]:\n",
    "        keywords += hero[1].split('|')\n",
    "    if hero[2]:\n",
    "        keywords +=hero[2].split('|')\n",
    "    return keywords"
   ]
  },
  {
   "cell_type": "code",
   "execution_count": null,
   "metadata": {
    "collapsed": true
   },
   "outputs": [],
   "source": [
    "def add_to_index(index, keyword, info):\n",
    "    \"\"\"\n",
    "    添加索引到搜索数据列表中\n",
    "    \"\"\"    \n",
    "    for entry in index:\n",
    "        if entry[0] == keyword:\n",
    "            entry[1].append(info)\n",
    "            return\n",
    "    #not find\n",
    "    index.append([keyword,[info]])\n"
   ]
  },
  {
   "cell_type": "code",
   "execution_count": null,
   "metadata": {
    "collapsed": true
   },
   "outputs": [],
   "source": [
    "def build_up_index(index_array):\n",
    "    \"\"\"\n",
    "    创建搜索数据列表\n",
    "    \"\"\"        \n",
    "    for hero_info in combined_heros:\n",
    "        keywords = get_keywords_array(hero_info)\n",
    "        for key in keywords:\n",
    "            add_to_index(index_array,key,hero_info)     "
   ]
  },
  {
   "cell_type": "code",
   "execution_count": null,
   "metadata": {
    "collapsed": true
   },
   "outputs": [],
   "source": [
    "# lookup information by keywords\n",
    "def lookup(index,keyword):\n",
    "    \"\"\"\n",
    "    根据关键词在列表中搜索\n",
    "    \"\"\"        \n",
    "    for entry in index:\n",
    "        if entry[0] == keyword:\n",
    "            return entry[1] \n",
    "    #not find\n",
    "    return entry[0] \n"
   ]
  },
  {
   "cell_type": "code",
   "execution_count": null,
   "metadata": {
    "collapsed": true
   },
   "outputs": [],
   "source": [
    "search_index=[]\n",
    "build_up_index(search_index)"
   ]
  },
  {
   "cell_type": "code",
   "execution_count": null,
   "metadata": {
    "collapsed": false
   },
   "outputs": [],
   "source": [
    "lookup(search_index,\"苏烈\")"
   ]
  }
 ],
 "metadata": {
  "kernelspec": {
   "display_name": "Python 3",
   "language": "python",
   "name": "python3"
  },
  "language_info": {
   "codemirror_mode": {
    "name": "ipython",
    "version": 3
   },
   "file_extension": ".py",
   "mimetype": "text/x-python",
   "name": "python",
   "nbconvert_exporter": "python",
   "pygments_lexer": "ipython3",
   "version": "3.6.0"
  }
 },
 "nbformat": 4,
 "nbformat_minor": 2
}
